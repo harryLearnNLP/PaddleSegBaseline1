{
 "cells": [
  {
   "cell_type": "markdown",
   "metadata": {
    "collapsed": false
   },
   "source": [
    "# [AI训练营]PaddleSeg实现语义分割Baseline之眼底血管分割数据\n",
    "通过paddleSeg训练模型，预测得到掩膜图像和伪彩色图片"
   ]
  },
  {
   "cell_type": "markdown",
   "metadata": {
    "collapsed": false
   },
   "source": [
    "\n",
    "# 一、项目背景\n",
    "以本项目自带的horse为参照，照着做了类似的眼底血管分割。\n"
   ]
  },
  {
   "cell_type": "markdown",
   "metadata": {
    "collapsed": false
   },
   "source": [
    "\n",
    "\n",
    "# 二、数据集说明\n",
    "\n",
    "------\n",
    "\n",
    "本项目使用的数据集是:[AI训练营]语义分割数据集合集，包含马分割，眼底血管分割，车道线分割，场景分割以及人像分割。\n",
    "\n",
    "该数据集已加载到本环境中，位于:\n",
    "\n",
    "**data/data103787/segDataset.zip**\n"
   ]
  },
  {
   "cell_type": "markdown",
   "metadata": {
    "collapsed": false
   },
   "source": [
    "## 1.解压"
   ]
  },
  {
   "cell_type": "code",
   "execution_count": null,
   "metadata": {
    "collapsed": false
   },
   "outputs": [],
   "source": [
    "# unzip: 解压指令\r\n",
    "# -o: 表示解压后进行输出\r\n",
    "# -q: 表示静默模式，即不输出解压过程的日志\r\n",
    "# -d: 解压到指定目录下，如果该文件夹不存在，会自动创建\r\n",
    "!unzip -oq data/data103787/segDataset.zip -d segDataset"
   ]
  },
  {
   "cell_type": "markdown",
   "metadata": {
    "collapsed": false
   },
   "source": [
    "解压完成后，会在左侧文件目录多出一个**segDataset**的文件夹，该文件夹下有**5**个子文件夹：\n",
    "\n"
   ]
  },
  {
   "cell_type": "code",
   "execution_count": null,
   "metadata": {
    "collapsed": false
   },
   "outputs": [
    {
     "name": "stdout",
     "output_type": "stream",
     "text": [
      "segDataset\r\n",
      "├── cocome\r\n",
      "│   ├── Annotations\r\n",
      "│   └── Images\r\n",
      "├── facade\r\n",
      "│   ├── Annotations\r\n",
      "│   └── Images\r\n",
      "├── FundusVessels\r\n",
      "│   ├── Annotations\r\n",
      "│   └── Images\r\n",
      "├── horse\r\n",
      "│   ├── Annotations\r\n",
      "│   └── Images\r\n",
      "└── laneline\r\n",
      "    ├── Annotations\r\n",
      "    └── Images\r\n",
      "\r\n",
      "15 directories, 0 files\r\n"
     ]
    }
   ],
   "source": [
    "# tree: 查看文件夹树状结构\r\n",
    "# -L: 表示遍历深度\r\n",
    "!tree segDataset -L 2"
   ]
  },
  {
   "cell_type": "markdown",
   "metadata": {
    "collapsed": false
   },
   "source": [
    "## 2.查看label中像素分类情况"
   ]
  },
  {
   "cell_type": "code",
   "execution_count": null,
   "metadata": {
    "collapsed": false
   },
   "outputs": [
    {
     "name": "stdout",
     "output_type": "stream",
     "text": [
      "100%|████████████████████████████████████████| 328/328 [00:00<00:00, 904.46it/s]\n",
      "horse-cls_id:  [0, 1, 2, 3, 4, 5, 6, 7, 8, 9, 10, 11, 12, 13, 14, 15, 16, 17, 18, 19, 20, 21, 22, 23, 24, 25, 26, 27, 28, 29, 30, 31, 32, 33, 34, 35, 36, 37, 38, 39, 40, 41, 42, 43, 44, 45, 211, 212, 213, 214, 216, 217, 218, 219, 220, 221, 222, 223, 224, 225, 226, 227, 228, 229, 230, 231, 232, 233, 234, 235, 236, 237, 238, 239, 240, 241, 242, 243, 244, 245, 246, 247, 248, 249, 250, 251, 252, 253, 254, 255]\n",
      "horse为90分类\n",
      "horse实际应转换为2分类(将非0像素转换为像素值为1)\n",
      "\n",
      "\n",
      "100%|████████████████████████████████████████| 845/845 [00:04<00:00, 195.89it/s]\n",
      "facade-cls_id:  [0, 1, 2, 3, 4, 5, 6, 7, 8]\n",
      "facade为9分类\n",
      "\n",
      "\n",
      "100%|████████████████████████████████████████| 200/200 [00:01<00:00, 182.28it/s]\n",
      "fundusvessels-cls_id:  [0, 1]\n",
      "fundusvessels为2分类\n",
      "\n",
      "\n",
      "100%|███████████████████████████████████████| 4878/4878 [01:34<00:00, 51.66it/s]\n",
      "laneline-cls_id:  [0, 1, 2, 3, 4, 5, 6, 7, 8, 9, 10, 11, 12, 13, 14, 15, 16, 17, 18, 19]\n",
      "laneline为20分类\n"
     ]
    }
   ],
   "source": [
    "\r\n",
    "!python show_segDataset_label_cls_id.py"
   ]
  },
  {
   "cell_type": "markdown",
   "metadata": {
    "collapsed": false
   },
   "source": [
    "# 三、数据预处理\n",
    "\n",
    "通过上边的像素值分析以及fundusVessels本身的标签表现，确定fundusVessels数据集为二分类任务\n"
   ]
  },
  {
   "cell_type": "markdown",
   "metadata": {
    "collapsed": false
   },
   "source": [
    "配置训练的索引文件txt，方便后边套件读取数据\n",
    "\n",
    " txt创建脚本位于: **FundusVessels_create_train_list.py**\n",
    "\n",
    "同时，生成的txt位于: **segDataset/horse/train_list.txt**"
   ]
  },
  {
   "cell_type": "code",
   "execution_count": null,
   "metadata": {
    "collapsed": false
   },
   "outputs": [
    {
     "name": "stdout",
     "output_type": "stream",
     "text": [
      "100%|██████████████████████████████████████| 200/200 [00:00<00:00, 25811.90it/s]\r\n"
     ]
    }
   ],
   "source": [
    "# 创建训练的数据索引txt\r\n",
    "# 格式如下\r\n",
    "# line1: train_img1.jpg train_label1.png\r\n",
    "# line2: train_img2.jpg train_label2.png\r\n",
    "!python FundusVessels_create_train_list.py"
   ]
  },
  {
   "cell_type": "markdown",
   "metadata": {
    "collapsed": false
   },
   "source": [
    "# 四、使用套件开始训练\n",
    "\n",
    "- 1.解压套件: 已挂载到本项目, 位于:**data/data102250/PaddleSeg-release-2.1.zip**"
   ]
  },
  {
   "cell_type": "code",
   "execution_count": null,
   "metadata": {
    "collapsed": false
   },
   "outputs": [],
   "source": [
    "# 解压套件\r\n",
    "!unzip -oq data/data102250/PaddleSeg-release-2.1.zip\r\n",
    "# 通过mv指令实现文件夹重命名\r\n",
    "!mv PaddleSeg-release-2.1 PaddleSeg"
   ]
  },
  {
   "cell_type": "markdown",
   "metadata": {
    "collapsed": false
   },
   "source": [
    "- 2.选择模型，baseline选择**bisenet**, 位于: **PaddleSeg/configs/quick_start/bisenet_optic_disc_512x512_1k.yml**"
   ]
  },
  {
   "cell_type": "markdown",
   "metadata": {
    "collapsed": false
   },
   "source": [
    "- 3.配置模型文件\n",
    "\n",
    "> 首先修改训练数据集加载的dataset类型:\n",
    "\n",
    "![](https://ai-studio-static-online.cdn.bcebos.com/2f5363d71034490290f720ea8bb0d6873d7df2712d4b4e84ae41b0378aed8b89)\n",
    "\n",
    "> 然后配置训练数据集如下:\n",
    "\n",
    "![](https://ai-studio-static-online.cdn.bcebos.com/29547856db4b4bfc80aa3732e143f2788589f9316c694f369c9bd1da44b815dc)\n",
    "\n",
    "> 类似的，配置验证数据集: -- **注意修改train_path为val_path**\n",
    "\n",
    "![](https://ai-studio-static-online.cdn.bcebos.com/09713aaaed6b4611a525d25aae67e4f0538224f7ac0241eb941d97892bf6c4c1)\n",
    "\n",
    "<font color=\"red\" size=4>其它模型可能需要到: PaddleSeg/configs/$_base_$  中的数据集文件进行配置，但修改参数与bisenet中的数据集修改参数相同 </font>\n",
    "\n",
    "![](https://ai-studio-static-online.cdn.bcebos.com/b154dcbf15e14f43aa13455c0ceeaaebe0489c9a09dd439f9d32e8b0a31355ec)\n"
   ]
  },
  {
   "cell_type": "markdown",
   "metadata": {
    "collapsed": false
   },
   "source": [
    "- 4.开始训练\n",
    "\n",
    "使用PaddleSeg的train.py，传入模型文件即可开启训练"
   ]
  },
  {
   "cell_type": "code",
   "execution_count": null,
   "metadata": {
    "collapsed": false
   },
   "outputs": [
    {
     "name": "stdout",
     "output_type": "stream",
     "text": [
      "/opt/conda/envs/python35-paddle120-env/lib/python3.7/site-packages/paddle/fluid/layers/utils.py:26: DeprecationWarning: `np.int` is a deprecated alias for the builtin `int`. To silence this warning, use `int` by itself. Doing this will not modify any behavior and is safe. When replacing `np.int`, you may wish to use e.g. `np.int64` or `np.int32` to specify the precision. If you wish to review your current use, check the release note link for additional information.\n",
      "Deprecated in NumPy 1.20; for more details and guidance: https://numpy.org/devdocs/release/1.20.0-notes.html#deprecations\n",
      "  def convert_to_list(value, n, name, dtype=np.int):\n",
      "2021-08-15 15:24:01 [INFO]\t\n",
      "------------Environment Information-------------\n",
      "platform: Linux-4.4.0-150-generic-x86_64-with-debian-stretch-sid\n",
      "Python: 3.7.4 (default, Aug 13 2019, 20:35:49) [GCC 7.3.0]\n",
      "Paddle compiled with cuda: True\n",
      "NVCC: Cuda compilation tools, release 10.1, V10.1.243\n",
      "cudnn: 7.6\n",
      "GPUs used: 1\n",
      "CUDA_VISIBLE_DEVICES: None\n",
      "GPU: ['GPU 0: Tesla V100-SXM2-32GB']\n",
      "GCC: gcc (Ubuntu 7.5.0-3ubuntu1~16.04) 7.5.0\n",
      "PaddlePaddle: 2.0.2\n",
      "OpenCV: 4.1.1\n",
      "------------------------------------------------\n",
      "2021-08-15 15:24:01 [INFO]\t\n",
      "---------------Config Information---------------\n",
      "batch_size: 4\n",
      "iters: 2000\n",
      "loss:\n",
      "  coef:\n",
      "  - 1\n",
      "  - 1\n",
      "  - 1\n",
      "  - 1\n",
      "  - 1\n",
      "  types:\n",
      "  - ignore_index: 255\n",
      "    type: CrossEntropyLoss\n",
      "lr_scheduler:\n",
      "  end_lr: 0\n",
      "  learning_rate: 0.01\n",
      "  power: 0.9\n",
      "  type: PolynomialDecay\n",
      "model:\n",
      "  pretrained: null\n",
      "  type: BiSeNetV2\n",
      "optimizer:\n",
      "  momentum: 0.9\n",
      "  type: sgd\n",
      "  weight_decay: 4.0e-05\n",
      "train_dataset:\n",
      "  dataset_root: segDataset/FundusVessels\n",
      "  mode: train\n",
      "  num_classes: 2\n",
      "  train_path: segDataset/FundusVessels/train_list.txt\n",
      "  transforms:\n",
      "  - target_size:\n",
      "    - 512\n",
      "    - 512\n",
      "    type: Resize\n",
      "  - type: RandomHorizontalFlip\n",
      "  - type: Normalize\n",
      "  type: Dataset\n",
      "val_dataset:\n",
      "  dataset_root: segDataset/FundusVessels\n",
      "  mode: val\n",
      "  num_classes: 2\n",
      "  transforms:\n",
      "  - target_size:\n",
      "    - 512\n",
      "    - 512\n",
      "    type: Resize\n",
      "  - type: Normalize\n",
      "  type: Dataset\n",
      "  val_path: segDataset/FundusVessels/train_list.txt\n",
      "------------------------------------------------\n",
      "W0815 15:24:01.595968  7770 device_context.cc:362] Please NOTE: device: 0, GPU Compute Capability: 7.0, Driver API Version: 10.1, Runtime API Version: 10.1\n",
      "W0815 15:24:01.596012  7770 device_context.cc:372] device: 0, cuDNN Version: 7.6.\n",
      "/opt/conda/envs/python35-paddle120-env/lib/python3.7/site-packages/paddle/fluid/dataloader/dataloader_iter.py:89: DeprecationWarning: `np.bool` is a deprecated alias for the builtin `bool`. To silence this warning, use `bool` by itself. Doing this will not modify any behavior and is safe. If you specifically wanted the numpy scalar type, use `np.bool_` here.\n",
      "Deprecated in NumPy 1.20; for more details and guidance: https://numpy.org/devdocs/release/1.20.0-notes.html#deprecations\n",
      "  if isinstance(slot[0], (np.ndarray, np.bool, numbers.Number)):\n",
      "2021-08-15 15:24:09 [INFO]\t[TRAIN] epoch: 1, iter: 20/2000, loss: 2.5561, lr: 0.009914, batch_cost: 0.1136, reader_cost: 0.01402, ips: 35.2223 samples/sec | ETA 00:03:44\n",
      "2021-08-15 15:24:11 [INFO]\t[TRAIN] epoch: 1, iter: 40/2000, loss: 1.7937, lr: 0.009824, batch_cost: 0.0981, reader_cost: 0.00018, ips: 40.7709 samples/sec | ETA 00:03:12\n",
      "2021-08-15 15:24:13 [INFO]\t[TRAIN] epoch: 2, iter: 60/2000, loss: 1.7332, lr: 0.009734, batch_cost: 0.1022, reader_cost: 0.00471, ips: 39.1540 samples/sec | ETA 00:03:18\n",
      "2021-08-15 15:24:15 [INFO]\t[TRAIN] epoch: 2, iter: 80/2000, loss: 1.5896, lr: 0.009644, batch_cost: 0.0988, reader_cost: 0.00014, ips: 40.4950 samples/sec | ETA 00:03:09\n",
      "2021-08-15 15:24:17 [INFO]\t[TRAIN] epoch: 2, iter: 100/2000, loss: 1.5228, lr: 0.009553, batch_cost: 0.0978, reader_cost: 0.00034, ips: 40.8893 samples/sec | ETA 00:03:05\n",
      "2021-08-15 15:24:19 [INFO]\t[TRAIN] epoch: 3, iter: 120/2000, loss: 1.4966, lr: 0.009463, batch_cost: 0.1034, reader_cost: 0.00452, ips: 38.6746 samples/sec | ETA 00:03:14\n",
      "2021-08-15 15:24:21 [INFO]\t[TRAIN] epoch: 3, iter: 140/2000, loss: 1.5007, lr: 0.009372, batch_cost: 0.1001, reader_cost: 0.00011, ips: 39.9720 samples/sec | ETA 00:03:06\n",
      "2021-08-15 15:24:23 [INFO]\t[TRAIN] epoch: 4, iter: 160/2000, loss: 1.4860, lr: 0.009282, batch_cost: 0.1008, reader_cost: 0.00497, ips: 39.6827 samples/sec | ETA 00:03:05\n",
      "2021-08-15 15:24:25 [INFO]\t[TRAIN] epoch: 4, iter: 180/2000, loss: 1.3935, lr: 0.009191, batch_cost: 0.0970, reader_cost: 0.00011, ips: 41.2262 samples/sec | ETA 00:02:56\n",
      "2021-08-15 15:24:27 [INFO]\t[TRAIN] epoch: 4, iter: 200/2000, loss: 1.4132, lr: 0.009100, batch_cost: 0.0953, reader_cost: 0.00013, ips: 41.9554 samples/sec | ETA 00:02:51\n",
      "2021-08-15 15:24:27 [INFO]\tStart evaluating (total_samples: 200, total_iters: 200)...\n",
      "/opt/conda/envs/python35-paddle120-env/lib/python3.7/site-packages/paddle/fluid/dygraph/math_op_patch.py:238: UserWarning: The dtype of left and right variables are not the same, left dtype is VarType.INT32, but right dtype is VarType.BOOL, the right dtype will convert to VarType.INT32\n",
      "  format(lhs_dtype, rhs_dtype, lhs_dtype))\n",
      "/opt/conda/envs/python35-paddle120-env/lib/python3.7/site-packages/paddle/fluid/dygraph/math_op_patch.py:238: UserWarning: The dtype of left and right variables are not the same, left dtype is VarType.INT64, but right dtype is VarType.BOOL, the right dtype will convert to VarType.INT64\n",
      "  format(lhs_dtype, rhs_dtype, lhs_dtype))\n",
      "200/200 [==============================] - 6s 28ms/step - batch_cost: 0.0278 - reader cost: 1.9657e-\n",
      "2021-08-15 15:24:32 [INFO]\t[EVAL] #Images: 200 mIoU: 0.5957 Acc: 0.9081 Kappa: 0.4037 \n",
      "2021-08-15 15:24:32 [INFO]\t[EVAL] Class IoU: \n",
      "[0.9046 0.2867]\n",
      "2021-08-15 15:24:32 [INFO]\t[EVAL] Class Acc: \n",
      "[0.9176 0.7296]\n",
      "2021-08-15 15:24:33 [INFO]\t[EVAL] The model with the best validation mIoU (0.5957) was saved at iter 200.\n",
      "2021-08-15 15:24:35 [INFO]\t[TRAIN] epoch: 5, iter: 220/2000, loss: 1.3897, lr: 0.009009, batch_cost: 0.1027, reader_cost: 0.00473, ips: 38.9456 samples/sec | ETA 00:03:02\n",
      "2021-08-15 15:24:37 [INFO]\t[TRAIN] epoch: 5, iter: 240/2000, loss: 1.3726, lr: 0.008918, batch_cost: 0.0984, reader_cost: 0.00035, ips: 40.6673 samples/sec | ETA 00:02:53\n",
      "2021-08-15 15:24:39 [INFO]\t[TRAIN] epoch: 6, iter: 260/2000, loss: 1.3341, lr: 0.008827, batch_cost: 0.0992, reader_cost: 0.00452, ips: 40.3092 samples/sec | ETA 00:02:52\n",
      "2021-08-15 15:24:41 [INFO]\t[TRAIN] epoch: 6, iter: 280/2000, loss: 1.3395, lr: 0.008735, batch_cost: 0.0987, reader_cost: 0.00014, ips: 40.5214 samples/sec | ETA 00:02:49\n",
      "2021-08-15 15:24:42 [INFO]\t[TRAIN] epoch: 6, iter: 300/2000, loss: 1.3474, lr: 0.008644, batch_cost: 0.0953, reader_cost: 0.00010, ips: 41.9530 samples/sec | ETA 00:02:42\n",
      "2021-08-15 15:24:44 [INFO]\t[TRAIN] epoch: 7, iter: 320/2000, loss: 1.3208, lr: 0.008552, batch_cost: 0.0997, reader_cost: 0.00454, ips: 40.1012 samples/sec | ETA 00:02:47\n",
      "2021-08-15 15:24:46 [INFO]\t[TRAIN] epoch: 7, iter: 340/2000, loss: 1.3364, lr: 0.008461, batch_cost: 0.0953, reader_cost: 0.00013, ips: 41.9790 samples/sec | ETA 00:02:38\n",
      "2021-08-15 15:24:49 [INFO]\t[TRAIN] epoch: 8, iter: 360/2000, loss: 1.2719, lr: 0.008369, batch_cost: 0.1141, reader_cost: 0.01138, ips: 35.0582 samples/sec | ETA 00:03:07\n",
      "2021-08-15 15:24:51 [INFO]\t[TRAIN] epoch: 8, iter: 380/2000, loss: 1.3117, lr: 0.008277, batch_cost: 0.1007, reader_cost: 0.00014, ips: 39.7260 samples/sec | ETA 00:02:43\n",
      "2021-08-15 15:24:53 [INFO]\t[TRAIN] epoch: 8, iter: 400/2000, loss: 1.2988, lr: 0.008185, batch_cost: 0.0989, reader_cost: 0.00013, ips: 40.4448 samples/sec | ETA 00:02:38\n",
      "2021-08-15 15:24:53 [INFO]\tStart evaluating (total_samples: 200, total_iters: 200)...\n",
      "200/200 [==============================] - 5s 27ms/step - batch_cost: 0.0271 - reader cost: 1.7618e-\n",
      "2021-08-15 15:24:58 [INFO]\t[EVAL] #Images: 200 mIoU: 0.6404 Acc: 0.9155 Kappa: 0.4965 \n",
      "2021-08-15 15:24:58 [INFO]\t[EVAL] Class IoU: \n",
      "[0.9111 0.3696]\n",
      "2021-08-15 15:24:58 [INFO]\t[EVAL] Class Acc: \n",
      "[0.9296 0.7234]\n",
      "2021-08-15 15:24:58 [INFO]\t[EVAL] The model with the best validation mIoU (0.6404) was saved at iter 400.\n",
      "2021-08-15 15:25:01 [INFO]\t[TRAIN] epoch: 9, iter: 420/2000, loss: 1.3073, lr: 0.008093, batch_cost: 0.1028, reader_cost: 0.00443, ips: 38.9217 samples/sec | ETA 00:02:42\n",
      "2021-08-15 15:25:02 [INFO]\t[TRAIN] epoch: 9, iter: 440/2000, loss: 1.2407, lr: 0.008001, batch_cost: 0.0980, reader_cost: 0.00013, ips: 40.8361 samples/sec | ETA 00:02:32\n",
      "2021-08-15 15:25:05 [INFO]\t[TRAIN] epoch: 10, iter: 460/2000, loss: 1.2646, lr: 0.007909, batch_cost: 0.1023, reader_cost: 0.00535, ips: 39.1156 samples/sec | ETA 00:02:37\n",
      "2021-08-15 15:25:07 [INFO]\t[TRAIN] epoch: 10, iter: 480/2000, loss: 1.2485, lr: 0.007816, batch_cost: 0.0996, reader_cost: 0.00012, ips: 40.1425 samples/sec | ETA 00:02:31\n",
      "2021-08-15 15:25:08 [INFO]\t[TRAIN] epoch: 10, iter: 500/2000, loss: 1.2872, lr: 0.007724, batch_cost: 0.0976, reader_cost: 0.00011, ips: 40.9873 samples/sec | ETA 00:02:26\n",
      "2021-08-15 15:25:11 [INFO]\t[TRAIN] epoch: 11, iter: 520/2000, loss: 1.2385, lr: 0.007631, batch_cost: 0.1023, reader_cost: 0.00449, ips: 39.0954 samples/sec | ETA 00:02:31\n",
      "2021-08-15 15:25:12 [INFO]\t[TRAIN] epoch: 11, iter: 540/2000, loss: 1.2647, lr: 0.007538, batch_cost: 0.0985, reader_cost: 0.00010, ips: 40.6133 samples/sec | ETA 00:02:23\n",
      "2021-08-15 15:25:15 [INFO]\t[TRAIN] epoch: 12, iter: 560/2000, loss: 1.2218, lr: 0.007445, batch_cost: 0.1007, reader_cost: 0.00463, ips: 39.7358 samples/sec | ETA 00:02:24\n",
      "2021-08-15 15:25:16 [INFO]\t[TRAIN] epoch: 12, iter: 580/2000, loss: 1.2525, lr: 0.007352, batch_cost: 0.0971, reader_cost: 0.00013, ips: 41.1750 samples/sec | ETA 00:02:17\n",
      "2021-08-15 15:25:18 [INFO]\t[TRAIN] epoch: 12, iter: 600/2000, loss: 1.2721, lr: 0.007259, batch_cost: 0.0964, reader_cost: 0.00011, ips: 41.5129 samples/sec | ETA 00:02:14\n",
      "2021-08-15 15:25:18 [INFO]\tStart evaluating (total_samples: 200, total_iters: 200)...\n",
      "200/200 [==============================] - 6s 28ms/step - batch_cost: 0.0275 - reader cost: 1.7506e-\n",
      "2021-08-15 15:25:24 [INFO]\t[EVAL] #Images: 200 mIoU: 0.6455 Acc: 0.9177 Kappa: 0.5063 \n",
      "2021-08-15 15:25:24 [INFO]\t[EVAL] Class IoU: \n",
      "[0.9134 0.3775]\n",
      "2021-08-15 15:25:24 [INFO]\t[EVAL] Class Acc: \n",
      "[0.9301 0.7447]\n",
      "2021-08-15 15:25:24 [INFO]\t[EVAL] The model with the best validation mIoU (0.6455) was saved at iter 600.\n",
      "2021-08-15 15:25:26 [INFO]\t[TRAIN] epoch: 13, iter: 620/2000, loss: 1.2489, lr: 0.007166, batch_cost: 0.1033, reader_cost: 0.00574, ips: 38.7205 samples/sec | ETA 00:02:22\n",
      "2021-08-15 15:25:28 [INFO]\t[TRAIN] epoch: 13, iter: 640/2000, loss: 1.2383, lr: 0.007072, batch_cost: 0.0987, reader_cost: 0.00034, ips: 40.5253 samples/sec | ETA 00:02:14\n",
      "2021-08-15 15:25:30 [INFO]\t[TRAIN] epoch: 14, iter: 660/2000, loss: 1.2072, lr: 0.006978, batch_cost: 0.1025, reader_cost: 0.00475, ips: 39.0144 samples/sec | ETA 00:02:17\n",
      "2021-08-15 15:25:32 [INFO]\t[TRAIN] epoch: 14, iter: 680/2000, loss: 1.2337, lr: 0.006885, batch_cost: 0.0966, reader_cost: 0.00012, ips: 41.4234 samples/sec | ETA 00:02:07\n",
      "2021-08-15 15:25:34 [INFO]\t[TRAIN] epoch: 14, iter: 700/2000, loss: 1.2477, lr: 0.006791, batch_cost: 0.0955, reader_cost: 0.00012, ips: 41.8807 samples/sec | ETA 00:02:04\n",
      "2021-08-15 15:25:36 [INFO]\t[TRAIN] epoch: 15, iter: 720/2000, loss: 1.2459, lr: 0.006697, batch_cost: 0.1028, reader_cost: 0.00491, ips: 38.9204 samples/sec | ETA 00:02:11\n",
      "2021-08-15 15:25:38 [INFO]\t[TRAIN] epoch: 15, iter: 740/2000, loss: 1.2168, lr: 0.006603, batch_cost: 0.0969, reader_cost: 0.00012, ips: 41.2752 samples/sec | ETA 00:02:02\n",
      "2021-08-15 15:25:40 [INFO]\t[TRAIN] epoch: 16, iter: 760/2000, loss: 1.2355, lr: 0.006508, batch_cost: 0.1017, reader_cost: 0.00475, ips: 39.3392 samples/sec | ETA 00:02:06\n",
      "2021-08-15 15:25:42 [INFO]\t[TRAIN] epoch: 16, iter: 780/2000, loss: 1.2407, lr: 0.006414, batch_cost: 0.0979, reader_cost: 0.00035, ips: 40.8604 samples/sec | ETA 00:01:59\n",
      "2021-08-15 15:25:44 [INFO]\t[TRAIN] epoch: 16, iter: 800/2000, loss: 1.2005, lr: 0.006319, batch_cost: 0.1057, reader_cost: 0.00013, ips: 37.8549 samples/sec | ETA 00:02:06\n",
      "2021-08-15 15:25:44 [INFO]\tStart evaluating (total_samples: 200, total_iters: 200)...\n",
      "200/200 [==============================] - 6s 28ms/step - batch_cost: 0.0277 - reader cost: 1.7783e-\n",
      "2021-08-15 15:25:50 [INFO]\t[EVAL] #Images: 200 mIoU: 0.6531 Acc: 0.9190 Kappa: 0.5211 \n",
      "2021-08-15 15:25:50 [INFO]\t[EVAL] Class IoU: \n",
      "[0.9146 0.3917]\n",
      "2021-08-15 15:25:50 [INFO]\t[EVAL] Class Acc: \n",
      "[0.9322 0.7439]\n",
      "2021-08-15 15:25:50 [INFO]\t[EVAL] The model with the best validation mIoU (0.6531) was saved at iter 800.\n",
      "2021-08-15 15:25:52 [INFO]\t[TRAIN] epoch: 17, iter: 820/2000, loss: 1.2048, lr: 0.006224, batch_cost: 0.1026, reader_cost: 0.00470, ips: 38.9887 samples/sec | ETA 00:02:01\n",
      "2021-08-15 15:25:54 [INFO]\t[TRAIN] epoch: 17, iter: 840/2000, loss: 1.2191, lr: 0.006129, batch_cost: 0.1013, reader_cost: 0.00037, ips: 39.4964 samples/sec | ETA 00:01:57\n",
      "2021-08-15 15:25:56 [INFO]\t[TRAIN] epoch: 18, iter: 860/2000, loss: 1.2091, lr: 0.006034, batch_cost: 0.1015, reader_cost: 0.00487, ips: 39.4012 samples/sec | ETA 00:01:55\n",
      "2021-08-15 15:25:58 [INFO]\t[TRAIN] epoch: 18, iter: 880/2000, loss: 1.2207, lr: 0.005939, batch_cost: 0.0987, reader_cost: 0.00013, ips: 40.5383 samples/sec | ETA 00:01:50\n",
      "2021-08-15 15:26:00 [INFO]\t[TRAIN] epoch: 18, iter: 900/2000, loss: 1.2330, lr: 0.005844, batch_cost: 0.0986, reader_cost: 0.00015, ips: 40.5832 samples/sec | ETA 00:01:48\n",
      "2021-08-15 15:26:02 [INFO]\t[TRAIN] epoch: 19, iter: 920/2000, loss: 1.2123, lr: 0.005748, batch_cost: 0.1036, reader_cost: 0.00457, ips: 38.6111 samples/sec | ETA 00:01:51\n",
      "2021-08-15 15:26:04 [INFO]\t[TRAIN] epoch: 19, iter: 940/2000, loss: 1.2011, lr: 0.005652, batch_cost: 0.0979, reader_cost: 0.00011, ips: 40.8439 samples/sec | ETA 00:01:43\n",
      "2021-08-15 15:26:06 [INFO]\t[TRAIN] epoch: 20, iter: 960/2000, loss: 1.2435, lr: 0.005556, batch_cost: 0.1014, reader_cost: 0.00468, ips: 39.4379 samples/sec | ETA 00:01:45\n",
      "2021-08-15 15:26:08 [INFO]\t[TRAIN] epoch: 20, iter: 980/2000, loss: 1.1865, lr: 0.005460, batch_cost: 0.1033, reader_cost: 0.00036, ips: 38.7242 samples/sec | ETA 00:01:45\n",
      "2021-08-15 15:26:10 [INFO]\t[TRAIN] epoch: 20, iter: 1000/2000, loss: 1.1823, lr: 0.005364, batch_cost: 0.0984, reader_cost: 0.00034, ips: 40.6323 samples/sec | ETA 00:01:38\n",
      "2021-08-15 15:26:10 [INFO]\tStart evaluating (total_samples: 200, total_iters: 200)...\n",
      "200/200 [==============================] - 6s 28ms/step - batch_cost: 0.0279 - reader cost: 1.8865e-\n",
      "2021-08-15 15:26:16 [INFO]\t[EVAL] #Images: 200 mIoU: 0.6631 Acc: 0.9202 Kappa: 0.5401 \n",
      "2021-08-15 15:26:16 [INFO]\t[EVAL] Class IoU: \n",
      "[0.9155 0.4106]\n",
      "2021-08-15 15:26:16 [INFO]\t[EVAL] Class Acc: \n",
      "[0.9356 0.733 ]\n",
      "2021-08-15 15:26:16 [INFO]\t[EVAL] The model with the best validation mIoU (0.6631) was saved at iter 1000.\n",
      "2021-08-15 15:26:18 [INFO]\t[TRAIN] epoch: 21, iter: 1020/2000, loss: 1.1857, lr: 0.005267, batch_cost: 0.1014, reader_cost: 0.00486, ips: 39.4371 samples/sec | ETA 00:01:39\n",
      "2021-08-15 15:26:20 [INFO]\t[TRAIN] epoch: 21, iter: 1040/2000, loss: 1.2154, lr: 0.005170, batch_cost: 0.0963, reader_cost: 0.00010, ips: 41.5377 samples/sec | ETA 00:01:32\n",
      "2021-08-15 15:26:22 [INFO]\t[TRAIN] epoch: 22, iter: 1060/2000, loss: 1.2651, lr: 0.005073, batch_cost: 0.1012, reader_cost: 0.00451, ips: 39.5181 samples/sec | ETA 00:01:35\n",
      "2021-08-15 15:26:24 [INFO]\t[TRAIN] epoch: 22, iter: 1080/2000, loss: 1.1922, lr: 0.004976, batch_cost: 0.0986, reader_cost: 0.00013, ips: 40.5779 samples/sec | ETA 00:01:30\n",
      "2021-08-15 15:26:26 [INFO]\t[TRAIN] epoch: 22, iter: 1100/2000, loss: 1.1750, lr: 0.004879, batch_cost: 0.0952, reader_cost: 0.00011, ips: 42.0094 samples/sec | ETA 00:01:25\n",
      "2021-08-15 15:26:28 [INFO]\t[TRAIN] epoch: 23, iter: 1120/2000, loss: 1.2154, lr: 0.004781, batch_cost: 0.1017, reader_cost: 0.00487, ips: 39.3324 samples/sec | ETA 00:01:29\n",
      "2021-08-15 15:26:30 [INFO]\t[TRAIN] epoch: 23, iter: 1140/2000, loss: 1.1634, lr: 0.004684, batch_cost: 0.0989, reader_cost: 0.00017, ips: 40.4501 samples/sec | ETA 00:01:25\n",
      "2021-08-15 15:26:32 [INFO]\t[TRAIN] epoch: 24, iter: 1160/2000, loss: 1.2349, lr: 0.004586, batch_cost: 0.1036, reader_cost: 0.00509, ips: 38.5937 samples/sec | ETA 00:01:27\n",
      "2021-08-15 15:26:34 [INFO]\t[TRAIN] epoch: 24, iter: 1180/2000, loss: 1.1507, lr: 0.004487, batch_cost: 0.0980, reader_cost: 0.00035, ips: 40.8181 samples/sec | ETA 00:01:20\n",
      "2021-08-15 15:26:36 [INFO]\t[TRAIN] epoch: 24, iter: 1200/2000, loss: 1.2073, lr: 0.004389, batch_cost: 0.0956, reader_cost: 0.00014, ips: 41.8417 samples/sec | ETA 00:01:16\n",
      "2021-08-15 15:26:36 [INFO]\tStart evaluating (total_samples: 200, total_iters: 200)...\n",
      "200/200 [==============================] - 6s 29ms/step - batch_cost: 0.0287 - reader cost: 1.8113e-\n",
      "2021-08-15 15:26:42 [INFO]\t[EVAL] #Images: 200 mIoU: 0.6641 Acc: 0.9208 Kappa: 0.5419 \n",
      "2021-08-15 15:26:42 [INFO]\t[EVAL] Class IoU: \n",
      "[0.9161 0.412 ]\n",
      "2021-08-15 15:26:42 [INFO]\t[EVAL] Class Acc: \n",
      "[0.9356 0.7387]\n",
      "2021-08-15 15:26:42 [INFO]\t[EVAL] The model with the best validation mIoU (0.6641) was saved at iter 1200.\n",
      "2021-08-15 15:26:44 [INFO]\t[TRAIN] epoch: 25, iter: 1220/2000, loss: 1.2010, lr: 0.004290, batch_cost: 0.1002, reader_cost: 0.00469, ips: 39.9043 samples/sec | ETA 00:01:18\n",
      "2021-08-15 15:26:46 [INFO]\t[TRAIN] epoch: 25, iter: 1240/2000, loss: 1.2118, lr: 0.004191, batch_cost: 0.0986, reader_cost: 0.00014, ips: 40.5825 samples/sec | ETA 00:01:14\n",
      "2021-08-15 15:26:48 [INFO]\t[TRAIN] epoch: 26, iter: 1260/2000, loss: 1.1880, lr: 0.004092, batch_cost: 0.1024, reader_cost: 0.00484, ips: 39.0481 samples/sec | ETA 00:01:15\n",
      "2021-08-15 15:26:50 [INFO]\t[TRAIN] epoch: 26, iter: 1280/2000, loss: 1.1589, lr: 0.003992, batch_cost: 0.0982, reader_cost: 0.00013, ips: 40.7276 samples/sec | ETA 00:01:10\n",
      "2021-08-15 15:26:52 [INFO]\t[TRAIN] epoch: 26, iter: 1300/2000, loss: 1.2031, lr: 0.003892, batch_cost: 0.0980, reader_cost: 0.00032, ips: 40.8039 samples/sec | ETA 00:01:08\n",
      "2021-08-15 15:26:54 [INFO]\t[TRAIN] epoch: 27, iter: 1320/2000, loss: 1.1868, lr: 0.003792, batch_cost: 0.1017, reader_cost: 0.00458, ips: 39.3328 samples/sec | ETA 00:01:09\n",
      "2021-08-15 15:26:56 [INFO]\t[TRAIN] epoch: 27, iter: 1340/2000, loss: 1.1980, lr: 0.003692, batch_cost: 0.0987, reader_cost: 0.00036, ips: 40.5157 samples/sec | ETA 00:01:05\n",
      "2021-08-15 15:26:58 [INFO]\t[TRAIN] epoch: 28, iter: 1360/2000, loss: 1.1994, lr: 0.003591, batch_cost: 0.1021, reader_cost: 0.00450, ips: 39.1853 samples/sec | ETA 00:01:05\n",
      "2021-08-15 15:27:00 [INFO]\t[TRAIN] epoch: 28, iter: 1380/2000, loss: 1.1616, lr: 0.003490, batch_cost: 0.0972, reader_cost: 0.00014, ips: 41.1612 samples/sec | ETA 00:01:00\n",
      "2021-08-15 15:27:02 [INFO]\t[TRAIN] epoch: 28, iter: 1400/2000, loss: 1.1946, lr: 0.003389, batch_cost: 0.0976, reader_cost: 0.00034, ips: 40.9732 samples/sec | ETA 00:00:58\n",
      "2021-08-15 15:27:02 [INFO]\tStart evaluating (total_samples: 200, total_iters: 200)...\n",
      "200/200 [==============================] - 6s 28ms/step - batch_cost: 0.0276 - reader cost: 1.8375e-\n",
      "2021-08-15 15:27:08 [INFO]\t[EVAL] #Images: 200 mIoU: 0.6686 Acc: 0.9213 Kappa: 0.5505 \n",
      "2021-08-15 15:27:08 [INFO]\t[EVAL] Class IoU: \n",
      "[0.9165 0.4208]\n",
      "2021-08-15 15:27:08 [INFO]\t[EVAL] Class Acc: \n",
      "[0.9371 0.7337]\n",
      "2021-08-15 15:27:08 [INFO]\t[EVAL] The model with the best validation mIoU (0.6686) was saved at iter 1400.\n",
      "2021-08-15 15:27:10 [INFO]\t[TRAIN] epoch: 29, iter: 1420/2000, loss: 1.1722, lr: 0.003287, batch_cost: 0.1033, reader_cost: 0.00465, ips: 38.7104 samples/sec | ETA 00:00:59\n",
      "2021-08-15 15:27:12 [INFO]\t[TRAIN] epoch: 29, iter: 1440/2000, loss: 1.2131, lr: 0.003185, batch_cost: 0.0976, reader_cost: 0.00035, ips: 40.9835 samples/sec | ETA 00:00:54\n",
      "2021-08-15 15:27:14 [INFO]\t[TRAIN] epoch: 30, iter: 1460/2000, loss: 1.1500, lr: 0.003083, batch_cost: 0.1014, reader_cost: 0.00454, ips: 39.4285 samples/sec | ETA 00:00:54\n",
      "2021-08-15 15:27:16 [INFO]\t[TRAIN] epoch: 30, iter: 1480/2000, loss: 1.1745, lr: 0.002980, batch_cost: 0.0979, reader_cost: 0.00014, ips: 40.8443 samples/sec | ETA 00:00:50\n",
      "2021-08-15 15:27:18 [INFO]\t[TRAIN] epoch: 30, iter: 1500/2000, loss: 1.2147, lr: 0.002877, batch_cost: 0.0974, reader_cost: 0.00014, ips: 41.0829 samples/sec | ETA 00:00:48\n",
      "2021-08-15 15:27:20 [INFO]\t[TRAIN] epoch: 31, iter: 1520/2000, loss: 1.2460, lr: 0.002773, batch_cost: 0.1018, reader_cost: 0.00457, ips: 39.2944 samples/sec | ETA 00:00:48\n",
      "2021-08-15 15:27:22 [INFO]\t[TRAIN] epoch: 31, iter: 1540/2000, loss: 1.1397, lr: 0.002669, batch_cost: 0.0966, reader_cost: 0.00011, ips: 41.3967 samples/sec | ETA 00:00:44\n",
      "2021-08-15 15:27:24 [INFO]\t[TRAIN] epoch: 32, iter: 1560/2000, loss: 1.1435, lr: 0.002565, batch_cost: 0.1023, reader_cost: 0.00493, ips: 39.1090 samples/sec | ETA 00:00:45\n",
      "2021-08-15 15:27:26 [INFO]\t[TRAIN] epoch: 32, iter: 1580/2000, loss: 1.1738, lr: 0.002460, batch_cost: 0.0974, reader_cost: 0.00012, ips: 41.0486 samples/sec | ETA 00:00:40\n",
      "2021-08-15 15:27:28 [INFO]\t[TRAIN] epoch: 32, iter: 1600/2000, loss: 1.1934, lr: 0.002355, batch_cost: 0.0968, reader_cost: 0.00013, ips: 41.3259 samples/sec | ETA 00:00:38\n",
      "2021-08-15 15:27:28 [INFO]\tStart evaluating (total_samples: 200, total_iters: 200)...\n",
      "200/200 [==============================] - 6s 29ms/step - batch_cost: 0.0289 - reader cost: 1.8224e-0\n",
      "2021-08-15 15:27:34 [INFO]\t[EVAL] #Images: 200 mIoU: 0.6663 Acc: 0.9212 Kappa: 0.5460 \n",
      "2021-08-15 15:27:34 [INFO]\t[EVAL] Class IoU: \n",
      "[0.9166 0.4159]\n",
      "2021-08-15 15:27:34 [INFO]\t[EVAL] Class Acc: \n",
      "[0.9361 0.7399]\n",
      "2021-08-15 15:27:34 [INFO]\t[EVAL] The model with the best validation mIoU (0.6686) was saved at iter 1400.\n",
      "2021-08-15 15:27:36 [INFO]\t[TRAIN] epoch: 33, iter: 1620/2000, loss: 1.1572, lr: 0.002249, batch_cost: 0.1019, reader_cost: 0.00521, ips: 39.2582 samples/sec | ETA 00:00:38\n",
      "2021-08-15 15:27:38 [INFO]\t[TRAIN] epoch: 33, iter: 1640/2000, loss: 1.1969, lr: 0.002142, batch_cost: 0.0971, reader_cost: 0.00010, ips: 41.1886 samples/sec | ETA 00:00:34\n",
      "2021-08-15 15:27:40 [INFO]\t[TRAIN] epoch: 34, iter: 1660/2000, loss: 1.1937, lr: 0.002035, batch_cost: 0.1019, reader_cost: 0.00439, ips: 39.2600 samples/sec | ETA 00:00:34\n",
      "2021-08-15 15:27:42 [INFO]\t[TRAIN] epoch: 34, iter: 1680/2000, loss: 1.1362, lr: 0.001927, batch_cost: 0.0959, reader_cost: 0.00016, ips: 41.7225 samples/sec | ETA 00:00:30\n",
      "2021-08-15 15:27:44 [INFO]\t[TRAIN] epoch: 34, iter: 1700/2000, loss: 1.2062, lr: 0.001819, batch_cost: 0.0985, reader_cost: 0.00012, ips: 40.6186 samples/sec | ETA 00:00:29\n",
      "2021-08-15 15:27:46 [INFO]\t[TRAIN] epoch: 35, iter: 1720/2000, loss: 1.1759, lr: 0.001710, batch_cost: 0.1019, reader_cost: 0.00488, ips: 39.2692 samples/sec | ETA 00:00:28\n",
      "2021-08-15 15:27:48 [INFO]\t[TRAIN] epoch: 35, iter: 1740/2000, loss: 1.1829, lr: 0.001600, batch_cost: 0.0987, reader_cost: 0.00011, ips: 40.5246 samples/sec | ETA 00:00:25\n",
      "2021-08-15 15:27:50 [INFO]\t[TRAIN] epoch: 36, iter: 1760/2000, loss: 1.1764, lr: 0.001489, batch_cost: 0.1015, reader_cost: 0.00501, ips: 39.3932 samples/sec | ETA 00:00:24\n",
      "2021-08-15 15:27:52 [INFO]\t[TRAIN] epoch: 36, iter: 1780/2000, loss: 1.2018, lr: 0.001377, batch_cost: 0.0988, reader_cost: 0.00012, ips: 40.4782 samples/sec | ETA 00:00:21\n",
      "2021-08-15 15:27:54 [INFO]\t[TRAIN] epoch: 36, iter: 1800/2000, loss: 1.1487, lr: 0.001265, batch_cost: 0.0955, reader_cost: 0.00014, ips: 41.8650 samples/sec | ETA 00:00:19\n",
      "2021-08-15 15:27:54 [INFO]\tStart evaluating (total_samples: 200, total_iters: 200)...\n",
      "200/200 [==============================] - 5s 27ms/step - batch_cost: 0.0273 - reader cost: 1.7634e-\n",
      "2021-08-15 15:27:59 [INFO]\t[EVAL] #Images: 200 mIoU: 0.6701 Acc: 0.9215 Kappa: 0.5533 \n",
      "2021-08-15 15:27:59 [INFO]\t[EVAL] Class IoU: \n",
      "[0.9167 0.4236]\n",
      "2021-08-15 15:27:59 [INFO]\t[EVAL] Class Acc: \n",
      "[0.9377 0.7321]\n",
      "2021-08-15 15:28:00 [INFO]\t[EVAL] The model with the best validation mIoU (0.6701) was saved at iter 1800.\n",
      "2021-08-15 15:28:02 [INFO]\t[TRAIN] epoch: 37, iter: 1820/2000, loss: 1.1869, lr: 0.001151, batch_cost: 0.1032, reader_cost: 0.00478, ips: 38.7573 samples/sec | ETA 00:00:18\n",
      "2021-08-15 15:28:04 [INFO]\t[TRAIN] epoch: 37, iter: 1840/2000, loss: 1.1636, lr: 0.001036, batch_cost: 0.0992, reader_cost: 0.00014, ips: 40.3224 samples/sec | ETA 00:00:15\n",
      "2021-08-15 15:28:06 [INFO]\t[TRAIN] epoch: 38, iter: 1860/2000, loss: 1.2066, lr: 0.000919, batch_cost: 0.1037, reader_cost: 0.00464, ips: 38.5718 samples/sec | ETA 00:00:14\n",
      "2021-08-15 15:28:08 [INFO]\t[TRAIN] epoch: 38, iter: 1880/2000, loss: 1.1599, lr: 0.000801, batch_cost: 0.0974, reader_cost: 0.00012, ips: 41.0731 samples/sec | ETA 00:00:11\n",
      "2021-08-15 15:28:10 [INFO]\t[TRAIN] epoch: 38, iter: 1900/2000, loss: 1.1599, lr: 0.000681, batch_cost: 0.0969, reader_cost: 0.00037, ips: 41.2598 samples/sec | ETA 00:00:09\n",
      "2021-08-15 15:28:12 [INFO]\t[TRAIN] epoch: 39, iter: 1920/2000, loss: 1.2052, lr: 0.000558, batch_cost: 0.1018, reader_cost: 0.00493, ips: 39.2920 samples/sec | ETA 00:00:08\n",
      "2021-08-15 15:28:14 [INFO]\t[TRAIN] epoch: 39, iter: 1940/2000, loss: 1.1510, lr: 0.000432, batch_cost: 0.0970, reader_cost: 0.00011, ips: 41.2534 samples/sec | ETA 00:00:05\n",
      "2021-08-15 15:28:16 [INFO]\t[TRAIN] epoch: 40, iter: 1960/2000, loss: 1.1486, lr: 0.000302, batch_cost: 0.1030, reader_cost: 0.00487, ips: 38.8495 samples/sec | ETA 00:00:04\n",
      "2021-08-15 15:28:18 [INFO]\t[TRAIN] epoch: 40, iter: 1980/2000, loss: 1.1437, lr: 0.000166, batch_cost: 0.1019, reader_cost: 0.00016, ips: 39.2453 samples/sec | ETA 00:00:02\n",
      "2021-08-15 15:28:20 [INFO]\t[TRAIN] epoch: 40, iter: 2000/2000, loss: 1.2325, lr: 0.000011, batch_cost: 0.0976, reader_cost: 0.00036, ips: 41.0018 samples/sec | ETA 00:00:00\n",
      "2021-08-15 15:28:20 [INFO]\tStart evaluating (total_samples: 200, total_iters: 200)...\n",
      "200/200 [==============================] - 6s 28ms/step - batch_cost: 0.0283 - reader cost: 1.9487e-\n",
      "2021-08-15 15:28:26 [INFO]\t[EVAL] #Images: 200 mIoU: 0.6651 Acc: 0.9212 Kappa: 0.5439 \n",
      "2021-08-15 15:28:26 [INFO]\t[EVAL] Class IoU: \n",
      "[0.9166 0.4137]\n",
      "2021-08-15 15:28:26 [INFO]\t[EVAL] Class Acc: \n",
      "[0.9356 0.7428]\n",
      "2021-08-15 15:28:26 [INFO]\t[EVAL] The model with the best validation mIoU (0.6701) was saved at iter 1800.\n",
      "<class 'paddle.nn.layer.conv.Conv2D'>'s flops has been counted\n",
      "Customize Function has been applied to <class 'paddle.nn.layer.norm.SyncBatchNorm'>\n",
      "Cannot find suitable count function for <class 'paddle.nn.layer.pooling.MaxPool2D'>. Treat it as zero FLOPs.\n",
      "<class 'paddle.nn.layer.pooling.AdaptiveAvgPool2D'>'s flops has been counted\n",
      "<class 'paddle.nn.layer.pooling.AvgPool2D'>'s flops has been counted\n",
      "Cannot find suitable count function for <class 'paddle.nn.layer.activation.Sigmoid'>. Treat it as zero FLOPs.\n",
      "<class 'paddle.nn.layer.common.Dropout'>'s flops has been counted\n",
      "/opt/conda/envs/python35-paddle120-env/lib/python3.7/site-packages/paddle/tensor/creation.py:143: DeprecationWarning: `np.object` is a deprecated alias for the builtin `object`. To silence this warning, use `object` by itself. Doing this will not modify any behavior and is safe. \n",
      "Deprecated in NumPy 1.20; for more details and guidance: https://numpy.org/devdocs/release/1.20.0-notes.html#deprecations\n",
      "  if data.dtype == np.object:\n",
      "/opt/conda/envs/python35-paddle120-env/lib/python3.7/site-packages/paddle/fluid/dygraph/math_op_patch.py:238: UserWarning: The dtype of left and right variables are not the same, left dtype is VarType.FP32, but right dtype is VarType.INT32, the right dtype will convert to VarType.FP32\n",
      "  format(lhs_dtype, rhs_dtype, lhs_dtype))\n",
      "Total Flops: 8061050880     Total Params: 2328346\n"
     ]
    }
   ],
   "source": [
    "!python PaddleSeg/train.py\\\r\n",
    "--config PaddleSeg/configs/quick_start/bisenet_optic_disc_512x512_1k.yml\\\r\n",
    "--batch_size 4\\\r\n",
    "--iters 2000\\\r\n",
    "--learning_rate 0.01\\\r\n",
    "--save_interval 200\\\r\n",
    "--save_dir PaddleSeg/output\\\r\n",
    "--seed 2021\\\r\n",
    "--log_iters 20\\\r\n",
    "--do_eval\\\r\n",
    "--use_vdl\r\n",
    "\r\n",
    "# --batch_size 4\\  # 批大小\r\n",
    "# --iters 2000\\    # 迭代次数 -- 根据数据大小，批大小估计迭代次数\r\n",
    "# --learning_rate 0.01\\ # 学习率\r\n",
    "# --save_interval 200\\ # 保存周期 -- 迭代次数计算周期\r\n",
    "# --save_dir PaddleSeg/output\\ # 输出路径\r\n",
    "# --seed 2021\\ # 训练中使用到的随机数种子\r\n",
    "# --log_iters 20\\ # 日志频率 -- 迭代次数计算周期\r\n",
    "# --do_eval\\ # 边训练边验证\r\n",
    "# --use_vdl # 使用vdl可视化记录\r\n",
    "# 用于断训==即中断后继续上一次状态进行训练\r\n",
    "# --resume_model model_dir"
   ]
  },
  {
   "cell_type": "code",
   "execution_count": null,
   "metadata": {
    "collapsed": false
   },
   "outputs": [
    {
     "name": "stdout",
     "output_type": "stream",
     "text": [
      "/opt/conda/envs/python35-paddle120-env/lib/python3.7/site-packages/paddle/fluid/layers/utils.py:26: DeprecationWarning: `np.int` is a deprecated alias for the builtin `int`. To silence this warning, use `int` by itself. Doing this will not modify any behavior and is safe. When replacing `np.int`, you may wish to use e.g. `np.int64` or `np.int32` to specify the precision. If you wish to review your current use, check the release note link for additional information.\n",
      "Deprecated in NumPy 1.20; for more details and guidance: https://numpy.org/devdocs/release/1.20.0-notes.html#deprecations\n",
      "  def convert_to_list(value, n, name, dtype=np.int):\n",
      "2021-08-15 15:32:39 [INFO]\t\n",
      "---------------Config Information---------------\n",
      "batch_size: 4\n",
      "iters: 1000\n",
      "loss:\n",
      "  coef:\n",
      "  - 1\n",
      "  - 1\n",
      "  - 1\n",
      "  - 1\n",
      "  - 1\n",
      "  types:\n",
      "  - type: CrossEntropyLoss\n",
      "lr_scheduler:\n",
      "  end_lr: 0\n",
      "  learning_rate: 0.01\n",
      "  power: 0.9\n",
      "  type: PolynomialDecay\n",
      "model:\n",
      "  pretrained: null\n",
      "  type: BiSeNetV2\n",
      "optimizer:\n",
      "  momentum: 0.9\n",
      "  type: sgd\n",
      "  weight_decay: 4.0e-05\n",
      "train_dataset:\n",
      "  dataset_root: segDataset/FundusVessels\n",
      "  mode: train\n",
      "  num_classes: 2\n",
      "  train_path: segDataset/FundusVessels/train_list.txt\n",
      "  transforms:\n",
      "  - target_size:\n",
      "    - 512\n",
      "    - 512\n",
      "    type: Resize\n",
      "  - type: RandomHorizontalFlip\n",
      "  - type: Normalize\n",
      "  type: Dataset\n",
      "val_dataset:\n",
      "  dataset_root: segDataset/FundusVessels\n",
      "  mode: val\n",
      "  num_classes: 2\n",
      "  transforms:\n",
      "  - target_size:\n",
      "    - 512\n",
      "    - 512\n",
      "    type: Resize\n",
      "  - type: Normalize\n",
      "  type: Dataset\n",
      "  val_path: segDataset/FundusVessels/train_list.txt\n",
      "------------------------------------------------\n",
      "W0815 15:32:39.916157  8849 device_context.cc:362] Please NOTE: device: 0, GPU Compute Capability: 7.0, Driver API Version: 10.1, Runtime API Version: 10.1\n",
      "W0815 15:32:39.916224  8849 device_context.cc:372] device: 0, cuDNN Version: 7.6.\n",
      "2021-08-15 15:32:45 [INFO]\tLoading pretrained model from PaddleSeg/output/best_model/model.pdparams\n",
      "2021-08-15 15:32:45 [INFO]\tThere are 356/356 variables loaded into BiSeNetV2.\n",
      "2021-08-15 15:32:45 [INFO]\tLoaded trained params of model successfully\n",
      "2021-08-15 15:32:45 [INFO]\tStart evaluating (total_samples: 200, total_iters: 200)...\n",
      "/opt/conda/envs/python35-paddle120-env/lib/python3.7/site-packages/paddle/fluid/dataloader/dataloader_iter.py:89: DeprecationWarning: `np.bool` is a deprecated alias for the builtin `bool`. To silence this warning, use `bool` by itself. Doing this will not modify any behavior and is safe. If you specifically wanted the numpy scalar type, use `np.bool_` here.\n",
      "Deprecated in NumPy 1.20; for more details and guidance: https://numpy.org/devdocs/release/1.20.0-notes.html#deprecations\n",
      "  if isinstance(slot[0], (np.ndarray, np.bool, numbers.Number)):\n",
      "/opt/conda/envs/python35-paddle120-env/lib/python3.7/site-packages/paddle/fluid/dygraph/math_op_patch.py:238: UserWarning: The dtype of left and right variables are not the same, left dtype is VarType.INT32, but right dtype is VarType.BOOL, the right dtype will convert to VarType.INT32\n",
      "  format(lhs_dtype, rhs_dtype, lhs_dtype))\n",
      "/opt/conda/envs/python35-paddle120-env/lib/python3.7/site-packages/paddle/fluid/dygraph/math_op_patch.py:238: UserWarning: The dtype of left and right variables are not the same, left dtype is VarType.INT64, but right dtype is VarType.BOOL, the right dtype will convert to VarType.INT64\n",
      "  format(lhs_dtype, rhs_dtype, lhs_dtype))\n",
      "200/200 [==============================] - 6s 28ms/step - batch_cost: 0.0275 - reader cost: 0.001\n",
      "2021-08-15 15:32:50 [INFO]\t[EVAL] #Images: 200 mIoU: 0.6701 Acc: 0.9215 Kappa: 0.5533 \n",
      "2021-08-15 15:32:50 [INFO]\t[EVAL] Class IoU: \n",
      "[0.9167 0.4236]\n",
      "2021-08-15 15:32:50 [INFO]\t[EVAL] Class Acc: \n",
      "[0.9377 0.7321]\n"
     ]
    }
   ],
   "source": [
    "# 单独进行评估 -- 上边do_eval就是这个工作\r\n",
    "!python PaddleSeg/val.py\\\r\n",
    "--config PaddleSeg/configs/quick_start/bisenet_optic_disc_512x512_1k.yml\\\r\n",
    "--model_path PaddleSeg/output/best_model/model.pdparams\r\n",
    "# model_path： 模型参数路径"
   ]
  },
  {
   "cell_type": "markdown",
   "metadata": {
    "collapsed": false
   },
   "source": [
    "- 5.开始预测"
   ]
  },
  {
   "cell_type": "code",
   "execution_count": null,
   "metadata": {
    "collapsed": false
   },
   "outputs": [
    {
     "name": "stdout",
     "output_type": "stream",
     "text": [
      "/opt/conda/envs/python35-paddle120-env/lib/python3.7/site-packages/paddle/fluid/layers/utils.py:26: DeprecationWarning: `np.int` is a deprecated alias for the builtin `int`. To silence this warning, use `int` by itself. Doing this will not modify any behavior and is safe. When replacing `np.int`, you may wish to use e.g. `np.int64` or `np.int32` to specify the precision. If you wish to review your current use, check the release note link for additional information.\n",
      "Deprecated in NumPy 1.20; for more details and guidance: https://numpy.org/devdocs/release/1.20.0-notes.html#deprecations\n",
      "  def convert_to_list(value, n, name, dtype=np.int):\n",
      "2021-08-15 15:34:50 [INFO]\t\n",
      "---------------Config Information---------------\n",
      "batch_size: 4\n",
      "iters: 1000\n",
      "loss:\n",
      "  coef:\n",
      "  - 1\n",
      "  - 1\n",
      "  - 1\n",
      "  - 1\n",
      "  - 1\n",
      "  types:\n",
      "  - type: CrossEntropyLoss\n",
      "lr_scheduler:\n",
      "  end_lr: 0\n",
      "  learning_rate: 0.01\n",
      "  power: 0.9\n",
      "  type: PolynomialDecay\n",
      "model:\n",
      "  pretrained: null\n",
      "  type: BiSeNetV2\n",
      "optimizer:\n",
      "  momentum: 0.9\n",
      "  type: sgd\n",
      "  weight_decay: 4.0e-05\n",
      "train_dataset:\n",
      "  dataset_root: segDataset/FundusVessels\n",
      "  mode: train\n",
      "  num_classes: 2\n",
      "  train_path: segDataset/FundusVessels/train_list.txt\n",
      "  transforms:\n",
      "  - target_size:\n",
      "    - 512\n",
      "    - 512\n",
      "    type: Resize\n",
      "  - type: RandomHorizontalFlip\n",
      "  - type: Normalize\n",
      "  type: Dataset\n",
      "val_dataset:\n",
      "  dataset_root: segDataset/FundusVessels\n",
      "  mode: val\n",
      "  num_classes: 2\n",
      "  transforms:\n",
      "  - target_size:\n",
      "    - 512\n",
      "    - 512\n",
      "    type: Resize\n",
      "  - type: Normalize\n",
      "  type: Dataset\n",
      "  val_path: segDataset/FundusVessels/train_list.txt\n",
      "------------------------------------------------\n",
      "W0815 15:34:50.333297  9231 device_context.cc:362] Please NOTE: device: 0, GPU Compute Capability: 7.0, Driver API Version: 10.1, Runtime API Version: 10.1\n",
      "W0815 15:34:50.333348  9231 device_context.cc:372] device: 0, cuDNN Version: 7.6.\n",
      "2021-08-15 15:34:55 [INFO]\tNumber of predict images = 200\n",
      "2021-08-15 15:34:55 [INFO]\tLoading pretrained model from PaddleSeg/output/best_model/model.pdparams\n",
      "2021-08-15 15:34:55 [INFO]\tThere are 356/356 variables loaded into BiSeNetV2.\n",
      "2021-08-15 15:34:55 [INFO]\tStart to predict...\n",
      "200/200 [==============================] - 11s 57ms/st\n"
     ]
    }
   ],
   "source": [
    "# 进行预测\r\n",
    "!python PaddleSeg/predict.py\\\r\n",
    "--config PaddleSeg/configs/quick_start/bisenet_optic_disc_512x512_1k.yml\\\r\n",
    "--model_path PaddleSeg/output/best_model/model.pdparams\\\r\n",
    "--image_path segDataset/FundusVessels/Images\\\r\n",
    "--save_dir PaddleSeg/output/FundusVessels\r\n",
    "# image_path: 预测图片路径/文件夹 -- 这里直接对训练数据进行预测，得到预测结果\r\n",
    "# save_dir： 保存预测结果的路径 -- 保存的预测结果为图片"
   ]
  },
  {
   "cell_type": "markdown",
   "metadata": {
    "collapsed": false
   },
   "source": [
    "# 五、可视化预测结果\n",
    "\n",
    "通过PaddleSeg预测输出的结果为图片，对应位于:PaddleSeg/output/horse\n",
    "\n",
    "其中包含两种结果：\n",
    "\n",
    "- 一种为掩膜图像，即叠加预测结果与原始结果的图像 -- 位于: **PaddleSeg/output/FundusVessels/added_prediction**\n",
    "- 另一种为预测结果的伪彩色图像，即预测的结果图像 -- 位于: **PaddleSeg/output/FundusVessels/pseudo_color_prediction**"
   ]
  },
  {
   "cell_type": "code",
   "execution_count": null,
   "metadata": {
    "collapsed": false
   },
   "outputs": [
    {
     "name": "stdout",
     "output_type": "stream",
     "text": [
      "PaddleSeg/output/FundusVessels\r\n",
      "├── added_prediction\r\n",
      "└── pseudo_color_prediction\r\n",
      "\r\n",
      "2 directories, 0 files\r\n"
     ]
    }
   ],
   "source": [
    "# 查看预测结果文件夹分布\r\n",
    "!tree PaddleSeg/output/FundusVessels -L 1"
   ]
  },
  {
   "cell_type": "markdown",
   "metadata": {
    "collapsed": false
   },
   "source": [
    "# ---数据集 FundusVessels 的预测结果展示---\n",
    "\n",
    "## 掩膜图像：\n",
    "![](https://ai-studio-static-online.cdn.bcebos.com/79b0b5a6236c4250b785e8ace0d479faad789b811db44a1995feb6d4f3aaeefb)\n",
    "\n",
    "## 伪彩色图像：\n",
    "![](https://ai-studio-static-online.cdn.bcebos.com/41702ff10c6647baab1f1fa71593fbbb202b8ffc590a4b2595599a6034d97002)\n"
   ]
  },
  {
   "cell_type": "markdown",
   "metadata": {
    "collapsed": false
   },
   "source": [
    "\n",
    "# 六、总结\n",
    "作为paddleSeg的初学者，现在设计的知识还是皮毛，这个项目让我更好的了解paddleSeg的使用和调参，下一步学习会进一步深入了解。"
   ]
  }
 ],
 "metadata": {
  "kernelspec": {
   "display_name": "PaddlePaddle 2.1.2 (Python 3.5)",
   "language": "python",
   "name": "py35-paddle1.2.0"
  },
  "language_info": {
   "codemirror_mode": {
    "name": "ipython",
    "version": 3
   },
   "file_extension": ".py",
   "mimetype": "text/x-python",
   "name": "python",
   "nbconvert_exporter": "python",
   "pygments_lexer": "ipython3",
   "version": "3.7.4"
  }
 },
 "nbformat": 4,
 "nbformat_minor": 1
}
